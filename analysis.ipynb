{
 "cells": [
  {
   "cell_type": "markdown",
   "id": "162d40a9",
   "metadata": {},
   "source": [
    "# Project Analytics Notebook\n",
    "\n",
    "This notebook performs exploratory data analysis, visualization, and predictive modeling on a synthetic project analytics dataset. The goal is to uncover insights and build models that predict project success based on features such as budget, team size, tasks completed, risk level, and timelines.\n",
    "\n",
    "The dataset is stored in `data/project_data.csv`."
   ]
  },
  {
   "cell_type": "code",
   "execution_count": null,
   "id": "f00ad1ec",
   "metadata": {},
   "outputs": [],
   "source": [
    "import pandas as pd\n",
    "import numpy as np\n",
    "import matplotlib.pyplot as plt\n",
    "import seaborn as sns\n",
    "from sklearn.model_selection import train_test_split\n",
    "from sklearn.linear_model import LogisticRegression\n",
    "from sklearn.ensemble import RandomForestClassifier\n",
    "from sklearn.metrics import accuracy_score, confusion_matrix, classification_report\n",
    "\n",
    "# Settings for plots\n",
    "sns.set(style='whitegrid')\n",
    "%matplotlib inline"
   ]
  },
  {
   "cell_type": "markdown",
   "id": "d60a0046",
   "metadata": {},
   "source": [
    "## Load Data"
   ]
  },
  {
   "cell_type": "code",
   "execution_count": null,
   "id": "2be1ce9d",
   "metadata": {},
   "outputs": [],
   "source": [
    "# Read the dataset\n",
    "file_path = '../data/project_data.csv'\n",
    "df = pd.read_csv(file_path)\n",
    "\n",
    "# Display first few rows\n",
    "df.head()"
   ]
  },
  {
   "cell_type": "markdown",
   "id": "38a8ce9d",
   "metadata": {},
   "source": [
    "## Basic Statistics and Data Info"
   ]
  },
  {
   "cell_type": "code",
   "execution_count": null,
   "id": "0727251b",
   "metadata": {},
   "outputs": [],
   "source": [
    "# General information\n",
    "info = df.info()\n",
    "\n",
    "# Summary statistics\n",
    "summary_stats = df.describe(include='all')\n",
    "\n",
    "info, summary_stats"
   ]
  },
  {
   "cell_type": "markdown",
   "id": "3c16f915",
   "metadata": {},
   "source": [
    "## Data Preprocessing"
   ]
  },
  {
   "cell_type": "code",
   "execution_count": null,
   "id": "2ab309bf",
   "metadata": {},
   "outputs": [],
   "source": [
    "# Convert date columns to datetime\n",
    "for col in ['start_date', 'planned_end_date', 'actual_end_date']:\n",
    "    df[col] = pd.to_datetime(df[col])\n",
    "\n",
    "# Create project duration features\n",
    "# Planned and actual durations in days\n",
    "df['planned_duration_days'] = (df['planned_end_date'] - df['start_date']).dt.days\n",
    "df['actual_duration_days'] = (df['actual_end_date'] - df['start_date']).dt.days\n",
    "\n",
    "# Encode categorical variables\n",
    "risk_mapping = {'Low': 0, 'Medium': 1, 'High': 2}\n",
    "df['risk_level_encoded'] = df['risk_level'].map(risk_mapping)\n",
    "\n",
    "# Check for missing values\n",
    "missing_values = df.isnull().sum()\n",
    "\n",
    "missing_values"
   ]
  },
  {
   "cell_type": "markdown",
   "id": "812f32ef",
   "metadata": {},
   "source": [
    "## Exploratory Visualizations"
   ]
  },
  {
   "cell_type": "code",
   "execution_count": null,
   "id": "9b011ab5",
   "metadata": {},
   "outputs": [],
   "source": [
    "# Distribution of project durations\n",
    "fig, ax = plt.subplots(1, 2, figsize=(12, 5))\n",
    "sns.histplot(df['planned_duration_days'], bins=30, ax=ax[0], color='skyblue')\n",
    "ax[0].set_title('Distribution of Planned Duration (days)')\n",
    "ax[0].set_xlabel('Planned Duration (days)')\n",
    "\n",
    "sns.histplot(df['actual_duration_days'], bins=30, ax=ax[1], color='salmon')\n",
    "ax[1].set_title('Distribution of Actual Duration (days)')\n",
    "ax[1].set_xlabel('Actual Duration (days)')\n",
    "\n",
    "plt.tight_layout()\n",
    "plt.show()"
   ]
  },
  {
   "cell_type": "code",
   "execution_count": null,
   "id": "16d7fa52",
   "metadata": {},
   "outputs": [],
   "source": [
    "# Relationship between budget and tasks completed\n",
    "plt.figure(figsize=(8, 5))\n",
    "sns.scatterplot(x='budget', y='tasks_completed', hue='risk_level', data=df)\n",
    "plt.title('Budget vs Tasks Completed by Risk Level')\n",
    "plt.xlabel('Budget (USD)')\n",
    "plt.ylabel('Tasks Completed')\n",
    "plt.show()"
   ]
  },
  {
   "cell_type": "code",
   "execution_count": null,
   "id": "6e49788d",
   "metadata": {},
   "outputs": [],
   "source": [
    "# Success rate by risk level\n",
    "plt.figure(figsize=(6, 4))\n",
    "success_rate = df.groupby('risk_level')['success'].mean().reset_index()\n",
    "sns.barplot(x='risk_level', y='success', data=success_rate, palette='viridis')\n",
    "plt.title('Average Success Rate by Risk Level')\n",
    "plt.xlabel('Risk Level')\n",
    "plt.ylabel('Average Success Rate')\n",
    "plt.show()"
   ]
  },
  {
   "cell_type": "code",
   "execution_count": null,
   "id": "c088490b",
   "metadata": {},
   "outputs": [],
   "source": [
    "# Correlation heatmap for numerical features\n",
    "plt.figure(figsize=(10, 6))\n",
    "num_cols = ['team_size', 'budget', 'tasks_completed', 'planned_duration_days', 'actual_duration_days', 'client_satisfaction', 'delayed', 'success', 'risk_level_encoded']\n",
    "corr = df[num_cols].corr()\n",
    "sns.heatmap(corr, annot=True, fmt='.2f', cmap='coolwarm')\n",
    "plt.title('Correlation Heatmap')\n",
    "plt.show()"
   ]
  },
  {
   "cell_type": "markdown",
   "id": "fcd12c5e",
   "metadata": {},
   "source": [
    "## Predictive Modeling"
   ]
  },
  {
   "cell_type": "code",
   "execution_count": null,
   "id": "0b6f6d0d",
   "metadata": {},
   "outputs": [],
   "source": [
    "# Features and target\n",
    "target = 'success'\n",
    "features = ['team_size', 'budget', 'tasks_completed', 'planned_duration_days', 'actual_duration_days', 'client_satisfaction', 'risk_level_encoded', 'delayed']\n",
    "\n",
    "X = df[features]\n",
    "y = df[target]\n",
    "\n",
    "# Train-test split\n",
    "X_train, X_test, y_train, y_test = train_test_split(X, y, test_size=0.2, random_state=42)\n",
    "\n",
    "# Logistic Regression\n",
    "log_reg = LogisticRegression(max_iter=1000)\n",
    "log_reg.fit(X_train, y_train)\n",
    "y_pred_lr = log_reg.predict(X_test)\n",
    "\n",
    "acc_lr = accuracy_score(y_test, y_pred_lr)\n",
    "cm_lr = confusion_matrix(y_test, y_pred_lr)\n",
    "\n",
    "acc_lr, cm_lr"
   ]
  },
  {
   "cell_type": "code",
   "execution_count": null,
   "id": "a8ff31c6",
   "metadata": {},
   "outputs": [],
   "source": [
    "# Random Forest Classifier\n",
    "rf_clf = RandomForestClassifier(n_estimators=200, random_state=42)\n",
    "rf_clf.fit(X_train, y_train)\n",
    "y_pred_rf = rf_clf.predict(X_test)\n",
    "\n",
    "acc_rf = accuracy_score(y_test, y_pred_rf)\n",
    "cm_rf = confusion_matrix(y_test, y_pred_rf)\n",
    "\n",
    "acc_rf, cm_rf"
   ]
  },
  {
   "cell_type": "code",
   "execution_count": null,
   "id": "973b35da",
   "metadata": {},
   "outputs": [],
   "source": [
    "# Show evaluation reports for both models\n",
    "report_lr = classification_report(y_test, y_pred_lr)\n",
    "report_rf = classification_report(y_test, y_pred_rf)\n",
    "\n",
    "print('Logistic Regression Classification Report:\n",
    "', report_lr)\n",
    "print('Random Forest Classification Report:\n",
    "', report_rf)"
   ]
  }
 ],
 "metadata": {},
 "nbformat": 4,
 "nbformat_minor": 5
}
